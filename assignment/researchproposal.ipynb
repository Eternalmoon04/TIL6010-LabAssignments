{
 "cells": [
  {
   "cell_type": "markdown",
   "metadata": {},
   "source": [
    "## Research Objective\n",
    "- How did the covid influence the air traffic and airports around the world?\n",
    "\n",
    "## Data\n",
    "- Flight Data - https://opensky-network.org\n",
    "- Airport Data\n",
    "- OpenStreetMap"
   ]
  },
  {
   "cell_type": "markdown",
   "metadata": {},
   "source": [
    "### 把三个月的带航班号的OD均非空的数据筛选出来\n",
    "### 带有ICAO编号与经纬度的机场信息\n",
    "### 以机场为网络节点，得出机场间邻接矩阵，计算中心度并绘制top100（或其他规模）机场网络连接图\n",
    "### 航空活动区域热力图\n",
    "### 分析疫情前后机场中心度与航空活动活跃度的变化"
   ]
  }
 ],
 "metadata": {
  "language_info": {
   "name": "python"
  },
  "orig_nbformat": 4
 },
 "nbformat": 4,
 "nbformat_minor": 2
}
