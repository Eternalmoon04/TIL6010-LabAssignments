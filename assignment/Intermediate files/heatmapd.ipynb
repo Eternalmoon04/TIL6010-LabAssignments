{
 "cells": [
  {
   "cell_type": "code",
   "execution_count": 6,
   "metadata": {},
   "outputs": [],
   "source": [
    "import plotly.express as px\n",
    "import pandas as pd\n",
    "import networkx as nx\n",
    "import numpy as np\n",
    "#import keplergl"
   ]
  },
  {
   "cell_type": "markdown",
   "metadata": {},
   "source": [
    "# Density Heatmap"
   ]
  },
  {
   "cell_type": "markdown",
   "metadata": {},
   "source": [
    "    In this part we have all the cleaned flight data from data processing, and we want to see how does it change between the months, so we need to resample the database by month"
   ]
  },
  {
   "cell_type": "code",
   "execution_count": 7,
   "metadata": {},
   "outputs": [],
   "source": [
    "# Read processed database\n",
    "file_path = 'flightdata.csv'\n",
    "df = pd.read_csv(file_path)"
   ]
  },
  {
   "cell_type": "code",
   "execution_count": 8,
   "metadata": {},
   "outputs": [],
   "source": [
    "# Resample data by month and store them in different dataframes\n",
    "df1910 = df[df['day'].str.startswith('2019-10')]\n",
    "df1911 = df[df['day'].str.startswith('2019-11')]\n",
    "df1912 = df[df['day'].str.startswith('2019-12')]\n",
    "df2001 = df[df['day'].str.startswith('2020-01')]\n",
    "df2002 = df[df['day'].str.startswith('2020-02')]\n",
    "df2003 = df[df['day'].str.startswith('2020-03')]\n",
    "df2004 = df[df['day'].str.startswith('2020-04')]\n",
    "df2005 = df[df['day'].str.startswith('2020-05')]\n",
    "df2006 = df[df['day'].str.startswith('2020-06')]\n",
    "df2007 = df[df['day'].str.startswith('2020-07')]\n",
    "df2008 = df[df['day'].str.startswith('2020-08')]\n",
    "df2009 = df[df['day'].str.startswith('2020-09')]\n",
    "df2010 = df[df['day'].str.startswith('2020-10')]\n",
    "df2011 = df[df['day'].str.startswith('2020-11')]\n",
    "df2012 = df[df['day'].str.startswith('2020-12')]\n",
    "df2101 = df[df['day'].str.startswith('2021-01')]\n",
    "df2102 = df[df['day'].str.startswith('2021-02')]\n",
    "df2103 = df[df['day'].str.startswith('2021-03')]\n",
    "df2104 = df[df['day'].str.startswith('2021-04')]\n",
    "df2105 = df[df['day'].str.startswith('2021-05')]\n",
    "df2106 = df[df['day'].str.startswith('2021-06')]\n",
    "df2107 = df[df['day'].str.startswith('2021-07')]\n",
    "df2108 = df[df['day'].str.startswith('2021-08')]\n",
    "df2109 = df[df['day'].str.startswith('2021-09')]\n",
    "df2110 = df[df['day'].str.startswith('2021-10')]"
   ]
  },
  {
   "cell_type": "code",
   "execution_count": 9,
   "metadata": {},
   "outputs": [],
   "source": [
    "# import airport data and catch necessary columns\n",
    "airports = pd.read_csv('World_Airports.csv')\n",
    "airports = airports.set_index('airport_ident')\n",
    "airports = pd.DataFrame(airports, columns=['latitude_deg','longitude_deg'])"
   ]
  },
  {
   "cell_type": "code",
   "execution_count": 10,
   "metadata": {},
   "outputs": [],
   "source": [
    "# use the first day of the month to mark the actual month of the dataframe\n",
    "def dfmonth(df1,i):\n",
    "    dftemp = pd.DataFrame(df1['origin'].value_counts())\n",
    "    df2 = pd.merge(dftemp, airports, how='inner', left_on=dftemp.index, right_on=airports.index)\n",
    "    df2['month'] = i\n",
    "    return df2\n",
    "\n",
    "# add time column to each dataframe\n",
    "dfm1910 = dfmonth(df1910,'2019-10')\n",
    "dfm1911 = dfmonth(df1911,'2019-11')\n",
    "dfm1912 = dfmonth(df1912,'2019-12')\n",
    "dfm2001 = dfmonth(df2001,'2020-01')\n",
    "dfm2002 = dfmonth(df2002,'2020-02')\n",
    "dfm2003 = dfmonth(df2003,'2020-03')\n",
    "dfm2004 = dfmonth(df2004,'2020-04')\n",
    "dfm2005 = dfmonth(df2005,'2020-05')\n",
    "dfm2006 = dfmonth(df2006,'2020-06')\n",
    "dfm2007 = dfmonth(df2007,'2020-07')\n",
    "dfm2008 = dfmonth(df2008,'2020-08')\n",
    "dfm2009 = dfmonth(df2009,'2020-09')\n",
    "dfm2010 = dfmonth(df2010,'2020-10')\n",
    "dfm2011 = dfmonth(df2011,'2020-11')\n",
    "dfm2012 = dfmonth(df2012,'2020-12')\n",
    "dfm2101 = dfmonth(df2101,'2021-01')\n",
    "dfm2102 = dfmonth(df2102,'2021-02')\n",
    "dfm2103 = dfmonth(df2103,'2021-03')\n",
    "dfm2104 = dfmonth(df2104,'2021-04')\n",
    "dfm2105 = dfmonth(df2105,'2021-05')\n",
    "dfm2106 = dfmonth(df2106,'2021-06')\n",
    "dfm2107 = dfmonth(df2107,'2021-07')\n",
    "dfm2108 = dfmonth(df2108,'2021-08')\n",
    "dfm2109 = dfmonth(df2109,'2021-09')\n",
    "dfm2110 = dfmonth(df2110,'2021-10')"
   ]
  },
  {
   "cell_type": "code",
   "execution_count": 11,
   "metadata": {},
   "outputs": [],
   "source": [
    "# merge all the columns and set dataframe used for keplergl map\n",
    "dfmerge = pd.concat([dfm1910,dfm1911,dfm1912,dfm2001,dfm2002,dfm2003,dfm2004,dfm2005,dfm2006,dfm2007,dfm2008,\n",
    "dfm2009,dfm2010,dfm2011,dfm2012,dfm2101,dfm2102,dfm2103,dfm2104,dfm2105,dfm2106,dfm2107,dfm2108,dfm2109,dfm2110], axis=0, ignore_index=True)\n",
    "dfmerge.to_csv('Heatmap.csv')"
   ]
  }
 ],
 "metadata": {
  "kernelspec": {
   "display_name": "Python 3 (ipykernel)",
   "language": "python",
   "name": "python3"
  },
  "language_info": {
   "codemirror_mode": {
    "name": "ipython",
    "version": 3
   },
   "file_extension": ".py",
   "mimetype": "text/x-python",
   "name": "python",
   "nbconvert_exporter": "python",
   "pygments_lexer": "ipython3",
   "version": "3.9.7"
  },
  "vscode": {
   "interpreter": {
    "hash": "7453b9adc806a79827ffa7da765463f332b3ff7726a2c4c8784bb8dd55c99a3e"
   }
  }
 },
 "nbformat": 4,
 "nbformat_minor": 2
}
