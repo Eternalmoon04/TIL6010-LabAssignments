{
 "cells": [
  {
   "cell_type": "markdown",
   "id": "d476d0c6",
   "metadata": {},
   "source": [
    "In this section, the purpose is to find how the centrality of airports changes/not changes before and after the pandemic."
   ]
  },
  {
   "cell_type": "code",
   "execution_count": 1,
   "id": "3de2dabf",
   "metadata": {},
   "outputs": [],
   "source": [
    "import pandas as pd\n",
    "import seaborn as sns\n",
    "import plotly.express as px\n",
    "import matplotlib.ticker as ticker\n",
    "import matplotlib.pyplot as plt\n",
    "import plotly\n",
    "import datetime as dt\n",
    "import networkx as nx\n",
    "import numpy as np"
   ]
  },
  {
   "cell_type": "code",
   "execution_count": 2,
   "id": "659533ad",
   "metadata": {},
   "outputs": [],
   "source": [
    "df = pd.read_csv('flightdata.csv')"
   ]
  },
  {
   "cell_type": "markdown",
   "id": "e41894c0",
   "metadata": {},
   "source": [
    "First, the top 200 airports with the most departing flights are taken into account, which contains 41.8% of the total data. The assumption here is the airport centrality are approximately positively correlated, so the dataset of the top 200 airports with the most flights is sufficient to find..."
   ]
  },
  {
   "cell_type": "code",
   "execution_count": 3,
   "id": "9887b9cf",
   "metadata": {},
   "outputs": [
    {
     "data": {
      "text/plain": [
       "0.4179483271862255"
      ]
     },
     "execution_count": 3,
     "metadata": {},
     "output_type": "execute_result"
    }
   ],
   "source": [
    "#top 200 airports\n",
    "df_count = df['origin'].value_counts().rename_axis('origin').reset_index(name='counts')\n",
    "df_200 = df[df['origin'].isin(df_count.head(200)['origin']) & df['destination'].isin(df_count.head(200)['origin'])]\n",
    "len(df_200)\n",
    "len(df_200)/len(df)"
   ]
  },
  {
   "cell_type": "code",
   "execution_count": 4,
   "id": "f2f9cb85",
   "metadata": {},
   "outputs": [
    {
     "data": {
      "text/html": [
       "<div>\n",
       "<style scoped>\n",
       "    .dataframe tbody tr th:only-of-type {\n",
       "        vertical-align: middle;\n",
       "    }\n",
       "\n",
       "    .dataframe tbody tr th {\n",
       "        vertical-align: top;\n",
       "    }\n",
       "\n",
       "    .dataframe thead th {\n",
       "        text-align: right;\n",
       "    }\n",
       "</style>\n",
       "<table border=\"1\" class=\"dataframe\">\n",
       "  <thead>\n",
       "    <tr style=\"text-align: right;\">\n",
       "      <th></th>\n",
       "      <th>origin</th>\n",
       "    </tr>\n",
       "  </thead>\n",
       "  <tbody>\n",
       "    <tr>\n",
       "      <th>KORD</th>\n",
       "      <td>KORD</td>\n",
       "    </tr>\n",
       "    <tr>\n",
       "      <th>KATL</th>\n",
       "      <td>KATL</td>\n",
       "    </tr>\n",
       "    <tr>\n",
       "      <th>KLAX</th>\n",
       "      <td>KLAX</td>\n",
       "    </tr>\n",
       "    <tr>\n",
       "      <th>KDEN</th>\n",
       "      <td>KDEN</td>\n",
       "    </tr>\n",
       "    <tr>\n",
       "      <th>KDFW</th>\n",
       "      <td>KDFW</td>\n",
       "    </tr>\n",
       "    <tr>\n",
       "      <th>KLAS</th>\n",
       "      <td>KLAS</td>\n",
       "    </tr>\n",
       "    <tr>\n",
       "      <th>KPHX</th>\n",
       "      <td>KPHX</td>\n",
       "    </tr>\n",
       "    <tr>\n",
       "      <th>KSEA</th>\n",
       "      <td>KSEA</td>\n",
       "    </tr>\n",
       "    <tr>\n",
       "      <th>KSFO</th>\n",
       "      <td>KSFO</td>\n",
       "    </tr>\n",
       "    <tr>\n",
       "      <th>KCLT</th>\n",
       "      <td>KCLT</td>\n",
       "    </tr>\n",
       "  </tbody>\n",
       "</table>\n",
       "</div>"
      ],
      "text/plain": [
       "     origin\n",
       "KORD   KORD\n",
       "KATL   KATL\n",
       "KLAX   KLAX\n",
       "KDEN   KDEN\n",
       "KDFW   KDFW\n",
       "KLAS   KLAS\n",
       "KPHX   KPHX\n",
       "KSEA   KSEA\n",
       "KSFO   KSFO\n",
       "KCLT   KCLT"
      ]
     },
     "execution_count": 4,
     "metadata": {},
     "output_type": "execute_result"
    }
   ],
   "source": [
    "cities = df_200['origin'].value_counts()\n",
    "df_cities = pd.DataFrame(cities)\n",
    "df_cities['origin'] = df_cities.index\n",
    "df_cities.head(10)"
   ]
  },
  {
   "cell_type": "code",
   "execution_count": 5,
   "id": "c1fa37a0",
   "metadata": {},
   "outputs": [
    {
     "data": {
      "text/plain": [
       "717756"
      ]
     },
     "execution_count": 5,
     "metadata": {},
     "output_type": "execute_result"
    }
   ],
   "source": [
    "df_0120 = df_200[df_200['day'].str.startswith('2020-01')]\n",
    "df_0120.head()\n",
    "len(df_0120)"
   ]
  },
  {
   "cell_type": "code",
   "execution_count": 6,
   "id": "04716022",
   "metadata": {},
   "outputs": [
    {
     "data": {
      "text/html": [
       "<div>\n",
       "<style scoped>\n",
       "    .dataframe tbody tr th:only-of-type {\n",
       "        vertical-align: middle;\n",
       "    }\n",
       "\n",
       "    .dataframe tbody tr th {\n",
       "        vertical-align: top;\n",
       "    }\n",
       "\n",
       "    .dataframe thead th {\n",
       "        text-align: right;\n",
       "    }\n",
       "</style>\n",
       "<table border=\"1\" class=\"dataframe\">\n",
       "  <thead>\n",
       "    <tr style=\"text-align: right;\">\n",
       "      <th></th>\n",
       "      <th>origin</th>\n",
       "      <th>destination</th>\n",
       "    </tr>\n",
       "  </thead>\n",
       "  <tbody>\n",
       "    <tr>\n",
       "      <th>4350197</th>\n",
       "      <td>YSSY</td>\n",
       "      <td>EHAM</td>\n",
       "    </tr>\n",
       "    <tr>\n",
       "      <th>4350199</th>\n",
       "      <td>RKSI</td>\n",
       "      <td>LIRF</td>\n",
       "    </tr>\n",
       "    <tr>\n",
       "      <th>4350200</th>\n",
       "      <td>SBGR</td>\n",
       "      <td>LOWW</td>\n",
       "    </tr>\n",
       "    <tr>\n",
       "      <th>4350201</th>\n",
       "      <td>RJBB</td>\n",
       "      <td>EGKK</td>\n",
       "    </tr>\n",
       "    <tr>\n",
       "      <th>4350202</th>\n",
       "      <td>KLAX</td>\n",
       "      <td>YSSY</td>\n",
       "    </tr>\n",
       "    <tr>\n",
       "      <th>...</th>\n",
       "      <td>...</td>\n",
       "      <td>...</td>\n",
       "    </tr>\n",
       "    <tr>\n",
       "      <th>5764282</th>\n",
       "      <td>KRDU</td>\n",
       "      <td>KCLT</td>\n",
       "    </tr>\n",
       "    <tr>\n",
       "      <th>5764308</th>\n",
       "      <td>KSMF</td>\n",
       "      <td>KSFO</td>\n",
       "    </tr>\n",
       "    <tr>\n",
       "      <th>5764309</th>\n",
       "      <td>KCOS</td>\n",
       "      <td>KAPA</td>\n",
       "    </tr>\n",
       "    <tr>\n",
       "      <th>5764317</th>\n",
       "      <td>KJFK</td>\n",
       "      <td>KEWR</td>\n",
       "    </tr>\n",
       "    <tr>\n",
       "      <th>5764339</th>\n",
       "      <td>KLGB</td>\n",
       "      <td>KBUR</td>\n",
       "    </tr>\n",
       "  </tbody>\n",
       "</table>\n",
       "<p>717756 rows × 2 columns</p>\n",
       "</div>"
      ],
      "text/plain": [
       "        origin destination\n",
       "4350197   YSSY        EHAM\n",
       "4350199   RKSI        LIRF\n",
       "4350200   SBGR        LOWW\n",
       "4350201   RJBB        EGKK\n",
       "4350202   KLAX        YSSY\n",
       "...        ...         ...\n",
       "5764282   KRDU        KCLT\n",
       "5764308   KSMF        KSFO\n",
       "5764309   KCOS        KAPA\n",
       "5764317   KJFK        KEWR\n",
       "5764339   KLGB        KBUR\n",
       "\n",
       "[717756 rows x 2 columns]"
      ]
     },
     "execution_count": 6,
     "metadata": {},
     "output_type": "execute_result"
    }
   ],
   "source": [
    "df_0120_OD = df_0120.iloc[:, 1:3]\n",
    "df_0120_OD"
   ]
  },
  {
   "cell_type": "code",
   "execution_count": 7,
   "id": "c0d704c7",
   "metadata": {},
   "outputs": [],
   "source": [
    "airport = np.arange(0, 200).tolist()\n",
    "df_airport = pd.DataFrame(airport)"
   ]
  },
  {
   "cell_type": "code",
   "execution_count": 8,
   "id": "182b528a",
   "metadata": {},
   "outputs": [
    {
     "data": {
      "text/html": [
       "<div>\n",
       "<style scoped>\n",
       "    .dataframe tbody tr th:only-of-type {\n",
       "        vertical-align: middle;\n",
       "    }\n",
       "\n",
       "    .dataframe tbody tr th {\n",
       "        vertical-align: top;\n",
       "    }\n",
       "\n",
       "    .dataframe thead th {\n",
       "        text-align: right;\n",
       "    }\n",
       "</style>\n",
       "<table border=\"1\" class=\"dataframe\">\n",
       "  <thead>\n",
       "    <tr style=\"text-align: right;\">\n",
       "      <th></th>\n",
       "      <th>origin</th>\n",
       "      <th>No.</th>\n",
       "    </tr>\n",
       "  </thead>\n",
       "  <tbody>\n",
       "    <tr>\n",
       "      <th>KORD</th>\n",
       "      <td>KORD</td>\n",
       "      <td>0</td>\n",
       "    </tr>\n",
       "    <tr>\n",
       "      <th>KATL</th>\n",
       "      <td>KATL</td>\n",
       "      <td>1</td>\n",
       "    </tr>\n",
       "    <tr>\n",
       "      <th>KLAX</th>\n",
       "      <td>KLAX</td>\n",
       "      <td>2</td>\n",
       "    </tr>\n",
       "    <tr>\n",
       "      <th>KDEN</th>\n",
       "      <td>KDEN</td>\n",
       "      <td>3</td>\n",
       "    </tr>\n",
       "    <tr>\n",
       "      <th>KDFW</th>\n",
       "      <td>KDFW</td>\n",
       "      <td>4</td>\n",
       "    </tr>\n",
       "  </tbody>\n",
       "</table>\n",
       "</div>"
      ],
      "text/plain": [
       "     origin  No.\n",
       "KORD   KORD    0\n",
       "KATL   KATL    1\n",
       "KLAX   KLAX    2\n",
       "KDEN   KDEN    3\n",
       "KDFW   KDFW    4"
      ]
     },
     "execution_count": 8,
     "metadata": {},
     "output_type": "execute_result"
    }
   ],
   "source": [
    "df_cities['No.'] = airport\n",
    "df_cities.head()"
   ]
  },
  {
   "cell_type": "code",
   "execution_count": 23,
   "id": "95a41c6b",
   "metadata": {},
   "outputs": [],
   "source": [
    "#dictionary\n",
    "dic_airport = dict(zip(df_cities['origin'],df_cities['No.']))\n",
    "dic_airport_re = dict(zip(df_cities['No.'],df_cities['origin']))"
   ]
  },
  {
   "cell_type": "code",
   "execution_count": 10,
   "id": "72ec6cc9",
   "metadata": {},
   "outputs": [],
   "source": [
    "#replace\n",
    "df_num = df_0120_OD.replace(dic_airport)"
   ]
  },
  {
   "cell_type": "code",
   "execution_count": 11,
   "id": "bd133c3c",
   "metadata": {},
   "outputs": [
    {
     "data": {
      "text/html": [
       "<div>\n",
       "<style scoped>\n",
       "    .dataframe tbody tr th:only-of-type {\n",
       "        vertical-align: middle;\n",
       "    }\n",
       "\n",
       "    .dataframe tbody tr th {\n",
       "        vertical-align: top;\n",
       "    }\n",
       "\n",
       "    .dataframe thead th {\n",
       "        text-align: right;\n",
       "    }\n",
       "</style>\n",
       "<table border=\"1\" class=\"dataframe\">\n",
       "  <thead>\n",
       "    <tr style=\"text-align: right;\">\n",
       "      <th></th>\n",
       "      <th>origin</th>\n",
       "      <th>destination</th>\n",
       "    </tr>\n",
       "  </thead>\n",
       "  <tbody>\n",
       "    <tr>\n",
       "      <th>4350197</th>\n",
       "      <td>53</td>\n",
       "      <td>17</td>\n",
       "    </tr>\n",
       "    <tr>\n",
       "      <th>4350199</th>\n",
       "      <td>70</td>\n",
       "      <td>63</td>\n",
       "    </tr>\n",
       "    <tr>\n",
       "      <th>4350200</th>\n",
       "      <td>135</td>\n",
       "      <td>52</td>\n",
       "    </tr>\n",
       "    <tr>\n",
       "      <th>4350201</th>\n",
       "      <td>110</td>\n",
       "      <td>92</td>\n",
       "    </tr>\n",
       "    <tr>\n",
       "      <th>4350202</th>\n",
       "      <td>2</td>\n",
       "      <td>53</td>\n",
       "    </tr>\n",
       "    <tr>\n",
       "      <th>...</th>\n",
       "      <td>...</td>\n",
       "      <td>...</td>\n",
       "    </tr>\n",
       "    <tr>\n",
       "      <th>5764282</th>\n",
       "      <td>45</td>\n",
       "      <td>9</td>\n",
       "    </tr>\n",
       "    <tr>\n",
       "      <th>5764308</th>\n",
       "      <td>56</td>\n",
       "      <td>8</td>\n",
       "    </tr>\n",
       "    <tr>\n",
       "      <th>5764309</th>\n",
       "      <td>176</td>\n",
       "      <td>155</td>\n",
       "    </tr>\n",
       "    <tr>\n",
       "      <th>5764317</th>\n",
       "      <td>12</td>\n",
       "      <td>11</td>\n",
       "    </tr>\n",
       "    <tr>\n",
       "      <th>5764339</th>\n",
       "      <td>128</td>\n",
       "      <td>74</td>\n",
       "    </tr>\n",
       "  </tbody>\n",
       "</table>\n",
       "<p>717756 rows × 2 columns</p>\n",
       "</div>"
      ],
      "text/plain": [
       "         origin  destination\n",
       "4350197      53           17\n",
       "4350199      70           63\n",
       "4350200     135           52\n",
       "4350201     110           92\n",
       "4350202       2           53\n",
       "...         ...          ...\n",
       "5764282      45            9\n",
       "5764308      56            8\n",
       "5764309     176          155\n",
       "5764317      12           11\n",
       "5764339     128           74\n",
       "\n",
       "[717756 rows x 2 columns]"
      ]
     },
     "execution_count": 11,
     "metadata": {},
     "output_type": "execute_result"
    }
   ],
   "source": [
    "df_odpair = df_num.iloc[:, 0:2]\n",
    "df_odpair"
   ]
  },
  {
   "cell_type": "code",
   "execution_count": 12,
   "id": "3788bc34",
   "metadata": {},
   "outputs": [
    {
     "data": {
      "text/plain": [
       "array([[ 53,  17],\n",
       "       [ 70,  63],\n",
       "       [135,  52],\n",
       "       ...,\n",
       "       [176, 155],\n",
       "       [ 12,  11],\n",
       "       [128,  74]], dtype=int64)"
      ]
     },
     "execution_count": 12,
     "metadata": {},
     "output_type": "execute_result"
    }
   ],
   "source": [
    "arr_od = df_odpair.values\n",
    "arr_od"
   ]
  },
  {
   "cell_type": "code",
   "execution_count": 14,
   "id": "2dd4fc21",
   "metadata": {},
   "outputs": [],
   "source": [
    "G = nx.Graph()\n",
    "G.add_nodes_from(airport)\n",
    "G.add_edges_from(arr_od)"
   ]
  },
  {
   "cell_type": "code",
   "execution_count": 15,
   "id": "4e83c6cc",
   "metadata": {},
   "outputs": [],
   "source": [
    "arr_eigen = nx.eigenvector_centrality(G)\n",
    "df_eigen = pd.DataFrame(arr_eigen.items(), columns=['Node', 'Centrality'])"
   ]
  },
  {
   "cell_type": "markdown",
   "id": "86cbc697",
   "metadata": {},
   "source": [
    "In graph theory, eigenvector centrality (also called eigencentrality or prestige score is a measure of the influence of a node in a network. Relative scores are assigned to all nodes in the network based on the concept that connections to high-scoring nodes contribute more to the score of the node in question than equal connections to low-scoring nodes. A high eigenvector score means that a node is connected to many nodes who themselves have high scores."
   ]
  },
  {
   "cell_type": "code",
   "execution_count": 25,
   "id": "01ce29f2",
   "metadata": {},
   "outputs": [
    {
     "data": {
      "text/html": [
       "<div>\n",
       "<style scoped>\n",
       "    .dataframe tbody tr th:only-of-type {\n",
       "        vertical-align: middle;\n",
       "    }\n",
       "\n",
       "    .dataframe tbody tr th {\n",
       "        vertical-align: top;\n",
       "    }\n",
       "\n",
       "    .dataframe thead th {\n",
       "        text-align: right;\n",
       "    }\n",
       "</style>\n",
       "<table border=\"1\" class=\"dataframe\">\n",
       "  <thead>\n",
       "    <tr style=\"text-align: right;\">\n",
       "      <th></th>\n",
       "      <th>Node</th>\n",
       "      <th>Centrality</th>\n",
       "    </tr>\n",
       "  </thead>\n",
       "  <tbody>\n",
       "    <tr>\n",
       "      <th>2</th>\n",
       "      <td>2</td>\n",
       "      <td>0.127207</td>\n",
       "    </tr>\n",
       "    <tr>\n",
       "      <th>0</th>\n",
       "      <td>0</td>\n",
       "      <td>0.125117</td>\n",
       "    </tr>\n",
       "    <tr>\n",
       "      <th>27</th>\n",
       "      <td>27</td>\n",
       "      <td>0.122492</td>\n",
       "    </tr>\n",
       "    <tr>\n",
       "      <th>11</th>\n",
       "      <td>11</td>\n",
       "      <td>0.122211</td>\n",
       "    </tr>\n",
       "    <tr>\n",
       "      <th>81</th>\n",
       "      <td>81</td>\n",
       "      <td>0.120004</td>\n",
       "    </tr>\n",
       "    <tr>\n",
       "      <th>...</th>\n",
       "      <td>...</td>\n",
       "      <td>...</td>\n",
       "    </tr>\n",
       "    <tr>\n",
       "      <th>194</th>\n",
       "      <td>194</td>\n",
       "      <td>0.063857</td>\n",
       "    </tr>\n",
       "    <tr>\n",
       "      <th>95</th>\n",
       "      <td>95</td>\n",
       "      <td>0.063821</td>\n",
       "    </tr>\n",
       "    <tr>\n",
       "      <th>33</th>\n",
       "      <td>33</td>\n",
       "      <td>0.063130</td>\n",
       "    </tr>\n",
       "    <tr>\n",
       "      <th>64</th>\n",
       "      <td>64</td>\n",
       "      <td>0.063067</td>\n",
       "    </tr>\n",
       "    <tr>\n",
       "      <th>72</th>\n",
       "      <td>72</td>\n",
       "      <td>0.061133</td>\n",
       "    </tr>\n",
       "  </tbody>\n",
       "</table>\n",
       "<p>100 rows × 2 columns</p>\n",
       "</div>"
      ],
      "text/plain": [
       "     Node  Centrality\n",
       "2       2    0.127207\n",
       "0       0    0.125117\n",
       "27     27    0.122492\n",
       "11     11    0.122211\n",
       "81     81    0.120004\n",
       "..    ...         ...\n",
       "194   194    0.063857\n",
       "95     95    0.063821\n",
       "33     33    0.063130\n",
       "64     64    0.063067\n",
       "72     72    0.061133\n",
       "\n",
       "[100 rows x 2 columns]"
      ]
     },
     "execution_count": 25,
     "metadata": {},
     "output_type": "execute_result"
    }
   ],
   "source": [
    "df_eigen100 = df_eigen.sort_values(by = ['Centrality'], ascending = False).head(100)\n",
    "df_eigen100"
   ]
  },
  {
   "cell_type": "code",
   "execution_count": 26,
   "id": "6191885c",
   "metadata": {},
   "outputs": [
    {
     "data": {
      "text/html": [
       "<div>\n",
       "<style scoped>\n",
       "    .dataframe tbody tr th:only-of-type {\n",
       "        vertical-align: middle;\n",
       "    }\n",
       "\n",
       "    .dataframe tbody tr th {\n",
       "        vertical-align: top;\n",
       "    }\n",
       "\n",
       "    .dataframe thead th {\n",
       "        text-align: right;\n",
       "    }\n",
       "</style>\n",
       "<table border=\"1\" class=\"dataframe\">\n",
       "  <thead>\n",
       "    <tr style=\"text-align: right;\">\n",
       "      <th></th>\n",
       "      <th>Node</th>\n",
       "      <th>Centrality</th>\n",
       "    </tr>\n",
       "  </thead>\n",
       "  <tbody>\n",
       "    <tr>\n",
       "      <th>2</th>\n",
       "      <td>KLAX</td>\n",
       "      <td>0.127207</td>\n",
       "    </tr>\n",
       "    <tr>\n",
       "      <th>0</th>\n",
       "      <td>KORD</td>\n",
       "      <td>0.125117</td>\n",
       "    </tr>\n",
       "    <tr>\n",
       "      <th>27</th>\n",
       "      <td>KIAD</td>\n",
       "      <td>0.122492</td>\n",
       "    </tr>\n",
       "    <tr>\n",
       "      <th>11</th>\n",
       "      <td>KEWR</td>\n",
       "      <td>0.122211</td>\n",
       "    </tr>\n",
       "    <tr>\n",
       "      <th>81</th>\n",
       "      <td>KTEB</td>\n",
       "      <td>0.120004</td>\n",
       "    </tr>\n",
       "    <tr>\n",
       "      <th>...</th>\n",
       "      <td>...</td>\n",
       "      <td>...</td>\n",
       "    </tr>\n",
       "    <tr>\n",
       "      <th>194</th>\n",
       "      <td>KFTW</td>\n",
       "      <td>0.063857</td>\n",
       "    </tr>\n",
       "    <tr>\n",
       "      <th>95</th>\n",
       "      <td>EBBR</td>\n",
       "      <td>0.063821</td>\n",
       "    </tr>\n",
       "    <tr>\n",
       "      <th>33</th>\n",
       "      <td>VHHH</td>\n",
       "      <td>0.063130</td>\n",
       "    </tr>\n",
       "    <tr>\n",
       "      <th>64</th>\n",
       "      <td>EIDW</td>\n",
       "      <td>0.063067</td>\n",
       "    </tr>\n",
       "    <tr>\n",
       "      <th>72</th>\n",
       "      <td>LSGG</td>\n",
       "      <td>0.061133</td>\n",
       "    </tr>\n",
       "  </tbody>\n",
       "</table>\n",
       "<p>100 rows × 2 columns</p>\n",
       "</div>"
      ],
      "text/plain": [
       "     Node  Centrality\n",
       "2    KLAX    0.127207\n",
       "0    KORD    0.125117\n",
       "27   KIAD    0.122492\n",
       "11   KEWR    0.122211\n",
       "81   KTEB    0.120004\n",
       "..    ...         ...\n",
       "194  KFTW    0.063857\n",
       "95   EBBR    0.063821\n",
       "33   VHHH    0.063130\n",
       "64   EIDW    0.063067\n",
       "72   LSGG    0.061133\n",
       "\n",
       "[100 rows x 2 columns]"
      ]
     },
     "execution_count": 26,
     "metadata": {},
     "output_type": "execute_result"
    }
   ],
   "source": [
    "df_eigenrank = df_eigen100.replace(dic_airport_re)\n",
    "df_eigenrank"
   ]
  },
  {
   "cell_type": "markdown",
   "id": "aca19b04",
   "metadata": {},
   "source": [
    "# Next steps\n"
   ]
  },
  {
   "cell_type": "markdown",
   "id": "1b516af5",
   "metadata": {},
   "source": [
    "- Compute the eigen centrality of other chosen months\n",
    "- Draw the animation of dynamic eigen centrality ranking\n",
    "- Conclude how the centrality changes/not changes before and after the pandemic"
   ]
  }
 ],
 "metadata": {
  "kernelspec": {
   "display_name": "Python 3 (ipykernel)",
   "language": "python",
   "name": "python3"
  },
  "language_info": {
   "codemirror_mode": {
    "name": "ipython",
    "version": 3
   },
   "file_extension": ".py",
   "mimetype": "text/x-python",
   "name": "python",
   "nbconvert_exporter": "python",
   "pygments_lexer": "ipython3",
   "version": "3.9.7"
  }
 },
 "nbformat": 4,
 "nbformat_minor": 5
}
