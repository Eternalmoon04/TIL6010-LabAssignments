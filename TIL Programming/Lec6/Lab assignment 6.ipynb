{
 "cells": [
  {
   "cell_type": "markdown",
   "id": "ba7a5dd8",
   "metadata": {},
   "source": [
    "Import relevant packages here."
   ]
  },
  {
   "cell_type": "code",
   "execution_count": 123,
   "id": "6a8838bb",
   "metadata": {},
   "outputs": [],
   "source": [
    "import matplotlib.pyplot as plt\n",
    "import numpy as np\n",
    "import pandas as pd"
   ]
  },
  {
   "cell_type": "markdown",
   "id": "1725519c",
   "metadata": {},
   "source": [
    "Load the data and verify it is loaded correctly.\n",
    "<ul>\n",
    "    <li>Print it (head, tail, or specific rows, choose a sensible number of rows).</li>\n",
    "    <li>Compare it to the source file.</li>\n",
    "<ul>"
   ]
  },
  {
   "cell_type": "code",
   "execution_count": 124,
   "id": "aa4d5e37",
   "metadata": {},
   "outputs": [],
   "source": [
    "data = pd.read_csv('cf_data.csv')"
   ]
  },
  {
   "cell_type": "markdown",
   "id": "0f6d5753",
   "metadata": {},
   "source": [
    "In the ensuing, you will use <code>numpy</code>.\n",
    "\n",
    "Lets create a grid for the values to plot. But first create <b>two arrays named <code>dv</code> and <code>s</code></b> using <code>numpy.linspace</code> that hold the grid values at the relevant indices in their respective dimension of the grid.\n",
    "\n",
    "Create a <b>grid named <code>a</code></b> with zeros using <code>numpy.zeros</code> in to which calculated acceleration values can be stored.<br>\n",
    "<br>\n",
    "Let the grid span:<br>\n",
    "<ul>\n",
    "    <li>Speed difference <code>dv</code> [m/s]\n",
    "        <ul>\n",
    "            <li>From -10 till 10</li>\n",
    "            <li>With 41 evenly spaced values</li>\n",
    "        </ul>\n",
    "    </li>\n",
    "    <li>Headway <code>s</code> [m]\n",
    "        <ul>\n",
    "            <li>From 0 till 200</li>\n",
    "            <li>With 21 evenly spaced values</li>\n",
    "        </ul>\n",
    "    </li>\n",
    "</ul>"
   ]
  },
  {
   "cell_type": "code",
   "execution_count": 125,
   "id": "2a5e3ef9",
   "metadata": {},
   "outputs": [],
   "source": [
    "dv = np.linspace(-10,10,41)\n",
    "s = np.linspace(0,200,21)\n",
    "a = np.zeros((41,21))"
   ]
  },
  {
   "cell_type": "markdown",
   "id": "fedab6cf",
   "metadata": {},
   "source": [
    "Create from the imported data 3 separate <code>numpy</code> arrays for each column <code>dv</code>, <code>s</code> and <code>a</code>. (We do this for speed reasons later.)\n",
    "<ul>\n",
    "    <li>Make sure to name them differently from the arrays that belong to the grid as above.</li>\n",
    "    <li>You can access the data of each column in a <code>DataFrame</code> using <code>data.xxx</code> where <code>xxx</code> is the column name (not as a string).</li>\n",
    "    <li>Use the method <code>to_numpy()</code> to convert a column to a <code>numpy</code> array.</li>\n",
    "</ul>"
   ]
  },
  {
   "cell_type": "code",
   "execution_count": 126,
   "id": "8133ecdc",
   "metadata": {},
   "outputs": [],
   "source": [
    "DV = data.dv.to_numpy()\n",
    "S = data.s.to_numpy()\n",
    "A = data.a.to_numpy()"
   ]
  },
  {
   "cell_type": "markdown",
   "id": "bbf1585a",
   "metadata": {},
   "source": [
    "Create an algorithm that calculates all the acceleration values and stores them in the grid. The algorithm is described visually in the last part of the lecture. At each grid point, it calculates a weighted mean of all measurements. The weights are given by an exponential function, based on the 'distance' between the grid point, and the measurement values of <code>dv</code> and <code>s</code>. To get you started, how many <code>for</code>-loops do you need?<br>\n",
    "<br>\n",
    "For this you will need <code>math</code>.<br>\n",
    "Use an <i>upsilon</i> of 1.5m/s and a <i>sigma</i> of 30m.<br>\n",
    "<br>\n",
    "<b>Warning:</b> This calculation may take some time. So:\n",
    "<ul>\n",
    "    <li>Print a line for each iteration of the outer-most <code>for</code>-loop that shows you the progress.</li>\n",
    "    <li>Test you code by running it only on the first 50 measurements of the data.</li>\n",
    "</ul>"
   ]
  },
  {
   "cell_type": "code",
   "execution_count": 127,
   "id": "676dd33f",
   "metadata": {},
   "outputs": [],
   "source": [
    "# ...\n",
    "loop = len(data)\n",
    "w = pd.DataFrame()\n",
    "list_dv = data.iloc[:,0].to_numpy()\n",
    "list_s = data.iloc[:,1].to_numpy()\n",
    "alpha = []\n",
    "list_w =[]\n",
    "for i in range(loop):\n",
    "    sample_dv = data.iloc[i,0]\n",
    "    sample_s = data.iloc[i,1] \n",
    "    list_w = np.exp(-abs(list_dv-sample_dv)/1.5 - abs(list_s-sample_s)/30)\n",
    "    alpha.append(np.dot(list_w,A)/list_w.sum())\n"
   ]
  },
  {
   "cell_type": "code",
   "execution_count": 128,
   "id": "676ab7d8",
   "metadata": {},
   "outputs": [],
   "source": [
    "dataset = pd.DataFrame()\n",
    "dataset['dv'] = data.iloc[0:loop-1,0]\n",
    "dataset['s'] = data.iloc[0:loop-1,1]\n",
    "dataset['a'] = pd.DataFrame(alpha)"
   ]
  },
  {
   "cell_type": "code",
   "execution_count": 129,
   "id": "7b8c9528",
   "metadata": {},
   "outputs": [],
   "source": [
    "for i in range(40):\n",
    "    for j in range(20):\n",
    "        if dataset.a[(dataset.dv>=dv[i])&(dataset.dv<dv[i]+0.5)&(dataset.s>=s[j])&(dataset.s<s[j]+10)].count()>0:\n",
    "            a[i,j] = dataset.a[\n",
    "                (dataset.dv>=dv[i])&(dataset.dv<dv[i]+0.5)&(dataset.s>=s[j])&(dataset.s<s[j]+10)\n",
    "            ].mean()\n",
    "a = a.transpose()"
   ]
  },
  {
   "cell_type": "code",
   "execution_count": 130,
   "id": "928d101f",
   "metadata": {},
   "outputs": [
    {
     "data": {
      "text/plain": [
       "array([[ 0.        ,  0.        ,  0.        ,  0.        ,  0.        ,\n",
       "         0.        ,  0.        ,  0.        ,  0.        ,  0.        ,\n",
       "         0.36278196,  0.34700565,  0.30672551,  0.26314423,  0.2209716 ,\n",
       "         0.17899691,  0.12048978,  0.05805384, -0.00661477, -0.07479173,\n",
       "        -0.16065137, -0.23528124, -0.31598888, -0.3882768 , -0.45034288,\n",
       "        -0.5097282 , -0.55859888, -0.60815854, -0.63733887, -0.65500652,\n",
       "        -0.6715133 ,  0.        ,  0.        ,  0.        ,  0.        ,\n",
       "         0.        ,  0.        ,  0.        ,  0.        ,  0.        ,\n",
       "         0.        ],\n",
       "       [ 0.        ,  0.        ,  0.        ,  0.        ,  0.        ,\n",
       "         0.        ,  0.        ,  0.        ,  0.        ,  0.41027761,\n",
       "         0.38480197,  0.3599673 ,  0.32353915,  0.28220933,  0.23890866,\n",
       "         0.19114719,  0.13590305,  0.07325799,  0.00901929, -0.06303862,\n",
       "        -0.14078455, -0.22380303, -0.30437102, -0.37925724, -0.4440552 ,\n",
       "        -0.50307272, -0.55240219, -0.59906763, -0.63382167, -0.65785334,\n",
       "        -0.67617926, -0.6985023 , -0.711287  , -0.72200343, -0.73161793,\n",
       "         0.        ,  0.        ,  0.        ,  0.        ,  0.        ,\n",
       "         0.        ],\n",
       "       [ 0.        ,  0.60449752,  0.58393959,  0.55467702,  0.5380839 ,\n",
       "         0.50449475,  0.48208593,  0.46465836,  0.46132426,  0.44093935,\n",
       "         0.41717714,  0.39611523,  0.35624272,  0.31228928,  0.26894826,\n",
       "         0.22290626,  0.16756244,  0.10425944,  0.03902913, -0.03098005,\n",
       "        -0.11339283, -0.19533165, -0.27619854, -0.35102569, -0.41966085,\n",
       "        -0.48088459, -0.53407654, -0.5868527 , -0.62336443, -0.649472  ,\n",
       "        -0.67439525, -0.69733928, -0.71699218, -0.7240474 , -0.73948078,\n",
       "        -0.74334109,  0.        ,  0.        ,  0.        ,  0.        ,\n",
       "         0.        ],\n",
       "       [ 0.64012926,  0.64109253,  0.61939928,  0.59311919,  0.57411223,\n",
       "         0.54439684,  0.52518676,  0.5150254 ,  0.49690014,  0.4730728 ,\n",
       "         0.44504903,  0.41685216,  0.38218987,  0.34199362,  0.29675774,\n",
       "         0.25087533,  0.19539524,  0.1348272 ,  0.06733579, -0.00120818,\n",
       "        -0.08018951, -0.16094564, -0.23885569, -0.31688689, -0.38501366,\n",
       "        -0.4467376 , -0.50549444, -0.56240282, -0.60543901, -0.63390993,\n",
       "        -0.66488911, -0.6883877 , -0.70791045, -0.7192329 , -0.73727842,\n",
       "        -0.74720198,  0.        ,  0.        ,  0.        ,  0.        ,\n",
       "         0.        ],\n",
       "       [ 0.65793544,  0.65961201,  0.64040303,  0.63079767,  0.5911557 ,\n",
       "         0.57042414,  0.54843586,  0.52537752,  0.50777512,  0.48635047,\n",
       "         0.45913325,  0.42889775,  0.39307929,  0.35442967,  0.31318766,\n",
       "         0.26593538,  0.21131588,  0.15335276,  0.08833753,  0.02421053,\n",
       "        -0.05363852, -0.12981744, -0.20598885, -0.27944092, -0.3499934 ,\n",
       "        -0.415584  , -0.47473849, -0.53499923, -0.57950622, -0.61342795,\n",
       "        -0.65028863, -0.67667807, -0.70119378, -0.72125012, -0.73833327,\n",
       "        -0.74740204, -0.75951458,  0.        , -0.78794714, -0.78794931,\n",
       "         0.        ],\n",
       "       [ 0.        ,  0.        ,  0.63999023,  0.62575407,  0.6024159 ,\n",
       "         0.5878271 ,  0.55566769,  0.53639356,  0.51775541,  0.49449182,\n",
       "         0.46539818,  0.43103499,  0.39873605,  0.35728589,  0.3182619 ,\n",
       "         0.27092508,  0.22097188,  0.16095351,  0.09751056,  0.03504278,\n",
       "        -0.03893145, -0.11179879, -0.18466353, -0.25175709, -0.32135986,\n",
       "        -0.38760646, -0.4438    , -0.50786359, -0.55325884, -0.59397656,\n",
       "        -0.62681482, -0.66008491, -0.6839212 , -0.71565999, -0.73350493,\n",
       "        -0.75047751, -0.76080941, -0.76928011,  0.        ,  0.        ,\n",
       "         0.        ],\n",
       "       [ 0.        ,  0.        ,  0.        ,  0.        ,  0.60538272,\n",
       "         0.59002328,  0.56993071,  0.5488461 ,  0.53243532,  0.50819105,\n",
       "         0.47745568,  0.44320604,  0.40372962,  0.36588649,  0.32659032,\n",
       "         0.28154152,  0.22704048,  0.17249829,  0.11017656,  0.04746419,\n",
       "        -0.02057871, -0.09242763, -0.16408078, -0.23295471, -0.29582918,\n",
       "        -0.35904464, -0.40837916, -0.47200294, -0.5183591 , -0.55847232,\n",
       "        -0.59116092, -0.62856412, -0.64908563, -0.67904146, -0.70624827,\n",
       "        -0.72797097, -0.74548742, -0.75243976, -0.75883979, -0.80520989,\n",
       "         0.        ],\n",
       "       [ 0.        ,  0.        ,  0.        ,  0.        ,  0.57618634,\n",
       "         0.57740764,  0.56702474,  0.54998208,  0.53185797,  0.50789221,\n",
       "         0.48223183,  0.43920483,  0.40718066,  0.3718391 ,  0.32782412,\n",
       "         0.2838164 ,  0.23635953,  0.18002315,  0.11720373,  0.05546932,\n",
       "        -0.00899745, -0.07625719, -0.1447804 , -0.20754782, -0.27251765,\n",
       "        -0.3309767 , -0.38914787, -0.44104045, -0.47954882, -0.51140237,\n",
       "        -0.54694701, -0.56979649, -0.60300029, -0.63015536, -0.65386153,\n",
       "        -0.69918243, -0.68882894, -0.72517145, -0.72659883, -0.77841766,\n",
       "         0.        ],\n",
       "       [ 0.        ,  0.        ,  0.54695861,  0.53934004,  0.56210951,\n",
       "         0.55078419,  0.54536948,  0.52982216,  0.51846263,  0.48559321,\n",
       "         0.46544766,  0.4235119 ,  0.40120761,  0.36497491,  0.3213048 ,\n",
       "         0.28321909,  0.23440702,  0.1791129 ,  0.12225625,  0.06341414,\n",
       "         0.00282321, -0.06802325, -0.13468291, -0.19292109, -0.25165479,\n",
       "        -0.30774038, -0.34706926, -0.39962774, -0.4492015 , -0.47263453,\n",
       "        -0.50402623, -0.53950359, -0.56027403, -0.6031738 , -0.61632372,\n",
       "        -0.62270731, -0.64958052, -0.65955856,  0.        ,  0.        ,\n",
       "         0.        ],\n",
       "       [ 0.        ,  0.        ,  0.47832779,  0.52043735,  0.53217718,\n",
       "         0.52604603,  0.52755403,  0.50640565,  0.48652331,  0.47132889,\n",
       "         0.45292782,  0.41432577,  0.39035737,  0.34768806,  0.31583919,\n",
       "         0.27362408,  0.22948357,  0.17542578,  0.12517027,  0.07103417,\n",
       "         0.00220912, -0.05514831, -0.11832361, -0.17906342, -0.23041601,\n",
       "        -0.27452659, -0.31845539, -0.37057604, -0.40219552, -0.42930432,\n",
       "        -0.45870195, -0.49372166, -0.52058614, -0.5440375 , -0.57670853,\n",
       "        -0.59953887, -0.5901851 , -0.57851277, -0.58190573, -0.60779112,\n",
       "         0.        ],\n",
       "       [ 0.        ,  0.39455288,  0.43931818,  0.47527982,  0.49802198,\n",
       "         0.        ,  0.        ,  0.        ,  0.47720444,  0.45471122,\n",
       "         0.43460715,  0.39851124,  0.37239183,  0.33522612,  0.30031033,\n",
       "         0.26576968,  0.22887866,  0.18338738,  0.12534092,  0.0805002 ,\n",
       "         0.01130987, -0.03546298, -0.09827668, -0.15794557, -0.19562336,\n",
       "        -0.26146885, -0.29537768, -0.33617474, -0.37469747, -0.38759844,\n",
       "        -0.40635725, -0.44846516, -0.46265821, -0.49458591, -0.55601238,\n",
       "        -0.56114974, -0.56380475, -0.56675276, -0.57426332,  0.        ,\n",
       "         0.        ],\n",
       "       [ 0.32997735,  0.34121532,  0.        ,  0.        ,  0.        ,\n",
       "         0.        ,  0.        ,  0.        ,  0.        ,  0.44119288,\n",
       "         0.40964543,  0.38677288,  0.35792308,  0.33235721,  0.29833866,\n",
       "         0.25811205,  0.22709282,  0.17492316,  0.12912461,  0.080887  ,\n",
       "         0.01968249, -0.02822461, -0.09430094, -0.1562044 , -0.19617029,\n",
       "        -0.24045327, -0.27217941, -0.30616532, -0.34643949, -0.37557594,\n",
       "        -0.38836988, -0.42066712, -0.44507145, -0.47054129, -0.51782306,\n",
       "        -0.54457911,  0.        ,  0.        ,  0.        ,  0.        ,\n",
       "         0.        ],\n",
       "       [ 0.243475  ,  0.30568645,  0.32161171,  0.        ,  0.        ,\n",
       "         0.        ,  0.        ,  0.        ,  0.        ,  0.41881552,\n",
       "         0.40562856,  0.38003192,  0.34577084,  0.32439666,  0.28380094,\n",
       "         0.25092378,  0.22068425,  0.17583211,  0.10963596,  0.06728966,\n",
       "         0.03463304, -0.02665931, -0.08279663, -0.14280621, -0.19007598,\n",
       "        -0.22677425, -0.25352693, -0.31447887, -0.3315682 ,  0.        ,\n",
       "        -0.37590603, -0.4078281 , -0.43456949, -0.46704229, -0.51530106,\n",
       "         0.        ,  0.        ,  0.        ,  0.        ,  0.        ,\n",
       "         0.        ],\n",
       "       [ 0.17315523,  0.        ,  0.32075854,  0.33451342,  0.36026056,\n",
       "         0.37099423,  0.        ,  0.        ,  0.        ,  0.        ,\n",
       "         0.        ,  0.        ,  0.        ,  0.29715537,  0.28079957,\n",
       "         0.24519943,  0.21450416,  0.17023161,  0.1171467 ,  0.07086981,\n",
       "         0.03680943, -0.02737036, -0.08607853, -0.1396122 , -0.18148826,\n",
       "        -0.21987771, -0.26280681, -0.30989267,  0.        , -0.34572264,\n",
       "        -0.36514322, -0.40906022, -0.42663917,  0.        ,  0.        ,\n",
       "         0.        ,  0.        ,  0.        ,  0.        ,  0.        ,\n",
       "         0.        ],\n",
       "       [ 0.        ,  0.        ,  0.        ,  0.        ,  0.33902252,\n",
       "         0.35823654,  0.34715183,  0.33498765,  0.33658365,  0.        ,\n",
       "         0.        ,  0.        ,  0.        ,  0.        ,  0.25139156,\n",
       "         0.        ,  0.17275943,  0.16360835,  0.        ,  0.        ,\n",
       "         0.        ,  0.        ,  0.        ,  0.        ,  0.        ,\n",
       "         0.        ,  0.        ,  0.        , -0.33587239, -0.35145666,\n",
       "         0.        ,  0.        ,  0.        ,  0.        ,  0.        ,\n",
       "         0.        ,  0.        ,  0.        ,  0.        ,  0.        ,\n",
       "         0.        ],\n",
       "       [ 0.        ,  0.        ,  0.        ,  0.        ,  0.        ,\n",
       "         0.30392599,  0.27915679,  0.26331106,  0.25560932,  0.        ,\n",
       "         0.        ,  0.        ,  0.        ,  0.        ,  0.        ,\n",
       "         0.        ,  0.        ,  0.        ,  0.        ,  0.        ,\n",
       "         0.        ,  0.        ,  0.        ,  0.        ,  0.        ,\n",
       "         0.        ,  0.        ,  0.        ,  0.        ,  0.        ,\n",
       "         0.        ,  0.        ,  0.        ,  0.        ,  0.        ,\n",
       "         0.        ,  0.        ,  0.        ,  0.        ,  0.        ,\n",
       "         0.        ],\n",
       "       [ 0.        ,  0.        ,  0.        ,  0.07479405,  0.14268239,\n",
       "         0.18970047,  0.16593793,  0.17815553,  0.21276013,  0.15992128,\n",
       "         0.17319451,  0.15178279,  0.16022598,  0.16715134,  0.16800223,\n",
       "         0.15649984,  0.13873331,  0.11080165,  0.07419061,  0.03470525,\n",
       "        -0.01469985, -0.0631168 , -0.11035134, -0.16559136, -0.19961175,\n",
       "        -0.24130622, -0.28136426, -0.33122308, -0.35899877, -0.37919943,\n",
       "        -0.39883164, -0.42200102, -0.44984031, -0.47411785, -0.52179216,\n",
       "        -0.57854212, -0.6153199 ,  0.        ,  0.        ,  0.        ,\n",
       "         0.        ],\n",
       "       [-0.17834461, -0.09831432, -0.02565662,  0.01078972,  0.08395459,\n",
       "         0.11611007,  0.11558516,  0.11440636,  0.13360783,  0.11850263,\n",
       "         0.11220349,  0.13278278,  0.13461734,  0.13743046,  0.13285785,\n",
       "         0.        ,  0.        ,  0.        ,  0.        , -0.00598985,\n",
       "        -0.03883218, -0.06615938, -0.12825033,  0.        ,  0.        ,\n",
       "         0.        ,  0.        ,  0.        ,  0.        ,  0.        ,\n",
       "         0.        ,  0.        ,  0.        ,  0.        ,  0.        ,\n",
       "         0.        ,  0.        , -0.67959272, -0.78222654,  0.        ,\n",
       "         0.        ],\n",
       "       [-0.25919402, -0.21895454, -0.12843936, -0.0363895 ,  0.03256878,\n",
       "         0.09973569,  0.08951954,  0.07710233,  0.07339075,  0.        ,\n",
       "         0.        ,  0.        ,  0.09708194,  0.11985221,  0.12226504,\n",
       "         0.12877986,  0.        ,  0.        ,  0.        ,  0.        ,\n",
       "         0.        ,  0.        ,  0.        ,  0.        ,  0.        ,\n",
       "         0.        ,  0.        ,  0.        ,  0.        ,  0.        ,\n",
       "         0.        ,  0.        ,  0.        ,  0.        ,  0.        ,\n",
       "         0.        ,  0.        ,  0.        ,  0.        ,  0.        ,\n",
       "         0.        ],\n",
       "       [-0.28345638,  0.        ,  0.        ,  0.        ,  0.        ,\n",
       "         0.        ,  0.        ,  0.        ,  0.        ,  0.        ,\n",
       "         0.        ,  0.04559117,  0.07327277,  0.09418937,  0.11032285,\n",
       "         0.        ,  0.        ,  0.        ,  0.        ,  0.        ,\n",
       "        -0.01355067, -0.05399247,  0.        ,  0.        ,  0.        ,\n",
       "         0.        , -0.31348833, -0.33604108,  0.        ,  0.        ,\n",
       "         0.        ,  0.        ,  0.        ,  0.        ,  0.        ,\n",
       "         0.        ,  0.        ,  0.        ,  0.        ,  0.        ,\n",
       "         0.        ],\n",
       "       [ 0.        ,  0.        ,  0.        ,  0.        ,  0.        ,\n",
       "         0.        ,  0.        ,  0.        ,  0.        ,  0.        ,\n",
       "         0.        ,  0.        ,  0.        ,  0.        ,  0.        ,\n",
       "         0.        ,  0.        ,  0.        ,  0.        ,  0.        ,\n",
       "         0.        ,  0.        ,  0.        ,  0.        ,  0.        ,\n",
       "         0.        ,  0.        ,  0.        ,  0.        ,  0.        ,\n",
       "         0.        ,  0.        ,  0.        ,  0.        ,  0.        ,\n",
       "         0.        ,  0.        ,  0.        ,  0.        ,  0.        ,\n",
       "         0.        ]])"
      ]
     },
     "execution_count": 130,
     "metadata": {},
     "output_type": "execute_result"
    }
   ],
   "source": [
    "a"
   ]
  },
  {
   "cell_type": "markdown",
   "id": "52cbac3a",
   "metadata": {},
   "source": [
    "The following code will plot the data for you. Does it make sense when considering:\n",
    "<ul>\n",
    "    <li>Negative (slower than leader) and positive (faster than leader) speed differences?</li>\n",
    "    <li>Small and large headways?</li>\n",
    "</ul>"
   ]
  },
  {
   "cell_type": "code",
   "execution_count": 131,
   "id": "168949b8",
   "metadata": {},
   "outputs": [
    {
     "data": {
      "image/png": "[encoded data removed]",
      "text/plain": [
       "<Figure size 1000x700 with 2 Axes>"
      ]
     },
     "metadata": {},
     "output_type": "display_data"
    }
   ],
   "source": [
    "X, Y = np.meshgrid(dv, s)\n",
    "axs = plt.axes()\n",
    "p = axs.pcolor(X, Y, a, shading='nearest')\n",
    "axs.set_title('Acceleration [m/s/s]')\n",
    "axs.set_xlabel('Speed difference [m/s]')\n",
    "axs.set_ylabel('Headway [m]')\n",
    "axs.figure.colorbar(p)\n",
    "axs.figure.set_size_inches(10, 7)"
   ]
  }
 ],
 "metadata": {
  "kernelspec": {
   "display_name": "Python 3.10.6 ('TIL6022')",
   "language": "python",
   "name": "python3"
  },
  "language_info": {
   "codemirror_mode": {
    "name": "ipython",
    "version": 3
   },
   "file_extension": ".py",
   "mimetype": "text/x-python",
   "name": "python",
   "nbconvert_exporter": "python",
   "pygments_lexer": "ipython3",
   "version": "3.10.6"
  },
  "vscode": {
   "interpreter": {
    "hash": "7453b9adc806a79827ffa7da765463f332b3ff7726a2c4c8784bb8dd55c99a3e"
   }
  }
 },
 "nbformat": 4,
 "nbformat_minor": 5
}
