{
 "cells": [
  {
   "cell_type": "markdown",
   "metadata": {},
   "source": [
    "\n",
    "[<img src=\"https://raw.githubusercontent.com/mbakker7/exploratory_computing_with_python/master/tudelft_logo.png\" width=\"200\" align='right'>](https://www.tudelft.nl/citg/over-faculteit/afdelingen/geoscience-remote-sensing/staff/scientific-staff/dr-stef-lhermitte)\n",
    "\n",
    "\n",
    "# Python Environment Assignment \n",
    "*Created by Panchamy Krishnakumari (p.k.krishnakumari at tudelft.nl)*\n",
    "\n",
    "In this course you will use several libraries that you need to install and are listed below. The setup for installing these packages in your local computer conda distribution is included in brightspace as well as below. \n",
    "\n",
    "*In case of technical installation problems, the cloud-based Google Colab online jupyter notebooks is an alternative. But, we highly recommend setting up your own local environment and working with visual studio code as this makes collaboration easier.*"
   ]
  },
  {
   "cell_type": "markdown",
   "metadata": {},
   "source": [
    "# Introduction"
   ]
  },
  {
   "cell_type": "markdown",
   "metadata": {},
   "source": [
    "## Required packages for the courses"
   ]
  },
  {
   "cell_type": "markdown",
   "metadata": {},
   "source": [
    "The packages used in this course are:\n",
    "\n",
    "- [copy](https://docs.python.org/3/library/copy.html): a Python package to make shallow and deep copy of Python objects.\n",
    "- [random](https://docs.python.org/3/library/random.html): a Python package for random number generation\n",
    "- [datetime](https://docs.python.org/3/library/datetime.html): a Python package to manipulate dates and times\n",
    "- [math](https://docs.python.org/3/library/math.html): a Python package for mathematical functions\n",
    "\n",
    "- [numpy](https://numpy.org): a Python package for scientific computing\n",
    "- [json](https://docs.python.org/3/library/json.html): a Python package to encode and decode JSON format\n",
    "- [pandas](https://pandas.pydata.org): a Python package for data analysis and manipulation\n",
    "- [geopandas](https://geopandas.org/en/stable/): a Python package to make working with geospatial data in python easier. GeoPandas extends the datatypes used by pandas to allow spatial operations on geometric types.\n",
    "\n",
    "- [matplotlib](https://matplotlib.org): a Python package for creating static, animated and interactive visualisations\n",
    "- [seaborn](https://seaborn.pydata.org): a Python package for statistical data visualisation\n",
    "- [plotly.express](https://plotly.com/python/plotly-express/): a Python package for interactive charts and maps. Plotly Express is a built-in part of the plotly library.\n",
    "- [folium](http://python-visualization.github.io/folium/): a Python package for visualising and maniplating geospatial data.\n",
    "\n",
    "- [scipy](https://scipy.org): a Python package for fundamental algorithms for scientific computing\n",
    "- [scikit-learn](https://scikit-learn.org/stable/): a Python package for general machine learning algorithms and predictive data analysis"
   ]
  },
  {
   "cell_type": "markdown",
   "metadata": {},
   "source": [
    "## Setting up your own python environment"
   ]
  },
  {
   "cell_type": "markdown",
   "metadata": {},
   "source": [
    "To install the packages on your local computer, follow the instructions below:\n",
    "\n",
    "- For windows, first launch your conda prompt. If you don't know how to launch the conda prompt in Windows check [here](https://docs.anaconda.com/anaconda/install/verify-install/#conda). Once the conda prompt is launched, you should run the following commands in this prompt:\n",
    "\n",
    "- For Mac/Linux you should open your terminal and the you can directly run the following commands in the terminal:\n",
    "\n",
    "`conda create --name TIL6022`\n",
    "\n",
    "This line is to create a new conda environment with name TIL6022. Subsequently, you need to active that newly created environment:\n",
    "\n",
    "`conda activate TIL6022`\n",
    "\n",
    "Within this newly created environment, you can first install necessary libraries:\n",
    "\n",
    "`conda install --force-reinstall -y -q --name TIL6022 -c conda-forge --file requirements.txt`\n",
    "\n",
    "Once you succeeded in installing these packages, you can run the notebook in TIL6022 environment. In VS code, the environment will appear automatically and you can switch your workarea to that specific environment.\n",
    "\n",
    "Once this is done, these packages can be imported as normal packages and you should be able to run the code in the rest of this notebook without major errors. If this is the case you are fine to start the course.\n"
   ]
  },
  {
   "cell_type": "markdown",
   "metadata": {},
   "source": [
    "## The Zen of Python"
   ]
  },
  {
   "cell_type": "code",
   "execution_count": 1,
   "metadata": {},
   "outputs": [
    {
     "name": "stdout",
     "output_type": "stream",
     "text": [
      "The Zen of Python, by Tim Peters\n",
      "\n",
      "Beautiful is better than ugly.\n",
      "Explicit is better than implicit.\n",
      "Simple is better than complex.\n",
      "Complex is better than complicated.\n",
      "Flat is better than nested.\n",
      "Sparse is better than dense.\n",
      "Readability counts.\n",
      "Special cases aren't special enough to break the rules.\n",
      "Although practicality beats purity.\n",
      "Errors should never pass silently.\n",
      "Unless explicitly silenced.\n",
      "In the face of ambiguity, refuse the temptation to guess.\n",
      "There should be one-- and preferably only one --obvious way to do it.\n",
      "Although that way may not be obvious at first unless you're Dutch.\n",
      "Now is better than never.\n",
      "Although never is often better than *right* now.\n",
      "If the implementation is hard to explain, it's a bad idea.\n",
      "If the implementation is easy to explain, it may be a good idea.\n",
      "Namespaces are one honking great idea -- let's do more of those!\n"
     ]
    }
   ],
   "source": [
    "import this"
   ]
  },
  {
   "cell_type": "markdown",
   "metadata": {},
   "source": [
    "# Part I - Verifying the installation"
   ]
  },
  {
   "cell_type": "code",
   "execution_count": 2,
   "metadata": {},
   "outputs": [
    {
     "name": "stdout",
     "output_type": "stream",
     "text": [
      "All libraries are installed correctly\n"
     ]
    }
   ],
   "source": [
    "\n",
    "import copy\n",
    "import random\n",
    "import datetime\n",
    "import math\n",
    "import numpy\n",
    "import json\n",
    "import pandas\n",
    "import geopandas\n",
    "import matplotlib.pyplot as plt\n",
    "import seaborn\n",
    "import plotly.express\n",
    "import folium #folium needs conda-forge\n",
    "import scipy\n",
    "import sklearn\n",
    "\n",
    "print('All libraries are installed correctly')"
   ]
  },
  {
   "cell_type": "markdown",
   "metadata": {},
   "source": [
    "# Part II - Markdown Assignments\n",
    "\n",
    "Look at *Expected output.pdf* to see what needs to be created. You can find helpers for markdown [here](https://docs.github.com/en/get-started/writing-on-github/getting-started-with-writing-and-formatting-on-github/basic-writing-and-formatting-syntax)"
   ]
  },
  {
   "cell_type": "markdown",
   "metadata": {},
   "source": [
    "## Q1: Create a nested list"
   ]
  },
  {
   "cell_type": "markdown",
   "metadata": {},
   "source": [
    "### Answer 1\n",
    "  1. Part II - Markdown Assignments\n",
    "      - Q1: Create a nested list   \n",
    "            – Answer 1  \n",
    "      - Q2: Quoting code  \n",
    "            – Answer 2  \n",
    "      - Q3: Add the sample figure  \n",
    "            – Answer 3"
   ]
  },
  {
   "cell_type": "markdown",
   "metadata": {},
   "source": [
    "## Q2: Quoting code"
   ]
  },
  {
   "cell_type": "markdown",
   "metadata": {},
   "source": [
    "### Answer 2\n",
    "The following is a piece of code in python:\n",
    "```\n",
    "import math\n",
    "print(math.sqrt(100))\n",
    "```"
   ]
  },
  {
   "cell_type": "markdown",
   "metadata": {},
   "source": [
    "## Q3: Add the sample picture"
   ]
  },
  {
   "cell_type": "markdown",
   "metadata": {},
   "source": [
    "### Answer 3\n",
    "Time for some sun!  \n",
    "![This is an image](https://brightspace.tudelft.nl/content/enforced/501308-TIL6022+2022+1/sample_picture.jpg?d2lSessionVal=s6chwWVwKYIyxII0ukSsjwueO&ou=501308)"
   ]
  },
  {
   "cell_type": "markdown",
   "metadata": {},
   "source": [
    "## BONUS: Add a task list\n"
   ]
  },
  {
   "cell_type": "markdown",
   "metadata": {},
   "source": [
    "# Submission\n",
    "If all cells work without problems, you are ready to start the notebook sessions in the quarter. \n",
    "\n",
    "Run all the cells and download the notebook as a pdf and submit this pdf in the assignment "
   ]
  }
 ],
 "metadata": {
  "kernelspec": {
   "display_name": "Python 3.10.4 ('TIL6022')",
   "language": "python",
   "name": "python3"
  },
  "language_info": {
   "codemirror_mode": {
    "name": "ipython",
    "version": 3
   },
   "file_extension": ".py",
   "mimetype": "text/x-python",
   "name": "python",
   "nbconvert_exporter": "python",
   "pygments_lexer": "ipython3",
   "version": "3.10.6"
  },
  "vscode": {
   "interpreter": {
    "hash": "7453b9adc806a79827ffa7da765463f332b3ff7726a2c4c8784bb8dd55c99a3e"
   }
  }
 },
 "nbformat": 4,
 "nbformat_minor": 2
}
