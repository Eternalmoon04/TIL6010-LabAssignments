{
 "cells": [
  {
   "cell_type": "markdown",
   "metadata": {},
   "source": [
    "# Sum of possitive numbers"
   ]
  },
  {
   "cell_type": "markdown",
   "metadata": {},
   "source": [
    "Calculate the sum of all possitive numbers in a list.  \n",
    "Example: for the list [2, -1, 3], the expected sum is 2 + 3 = 5"
   ]
  },
  {
   "cell_type": "code",
   "execution_count": 8,
   "metadata": {},
   "outputs": [
    {
     "name": "stdout",
     "output_type": "stream",
     "text": [
      "5\n"
     ]
    }
   ],
   "source": [
    "a = [2, -1, 3]\n",
    "# YOUR CODE HERE\n",
    "# Hint:\n",
    "# - Loop through elements of the list\n",
    "# - Use conditional statement to check if an element is possitive\n",
    "# - If yes, add to the final sum\n",
    "res = 0\n",
    "for element in a:\n",
    "    if element > 0:\n",
    "        res = res + element\n",
    "print(res)"
   ]
  },
  {
   "cell_type": "markdown",
   "metadata": {},
   "source": [
    "Now, use the code that you've developed to create a function that takes in a list and returns the sum of positive numbers."
   ]
  },
  {
   "cell_type": "code",
   "execution_count": 11,
   "metadata": {},
   "outputs": [
    {
     "name": "stdout",
     "output_type": "stream",
     "text": [
      "12\n"
     ]
    }
   ],
   "source": [
    "def sum_positives(a_list):\n",
    "    # YOUR CODE HERE\n",
    "    res = 0\n",
    "    for element in a:\n",
    "        if element > 0:\n",
    "            res = res + element\n",
    "    return res"
   ]
  },
  {
   "cell_type": "markdown",
   "metadata": {},
   "source": [
    "Call the function with the list `a` above."
   ]
  },
  {
   "cell_type": "markdown",
   "metadata": {},
   "source": [
    "# Fibonacci\n",
    "\n",
    "The [Fibonacci](https://en.wikipedia.org/wiki/Fibonacci_number) series starts with 0 and 1. The next number is the sum of the last two numbers.  \n",
    "$ x_0 = 0, x_1 = 1, x_{n+1} = x_n + x_{n-1}$  \n",
    "\n",
    "Write a function `get_Fibonacci_number` to compute $x_n$ of the Fibonacci series.\n",
    "E.g: \n",
    "- `get_Fibonacci_number(0)` returns 0\n",
    "- `get_Fibonacci_number(1)` returns 1\n",
    "- `get_Fibonacci_number(3)` returns 2"
   ]
  },
  {
   "cell_type": "code",
   "execution_count": 88,
   "metadata": {},
   "outputs": [
    {
     "name": "stdout",
     "output_type": "stream",
     "text": [
      "2\n"
     ]
    }
   ],
   "source": [
    "def get_Fibonacci_number(n):\n",
    "    # YOUR CODE HERE\n",
    "    x0 = 0\n",
    "    x1 = 1\n",
    "    if n==0:\n",
    "        return 0\n",
    "    elif n>0:\n",
    "        list = []\n",
    "        list.append(1)\n",
    "        list.append(1)\n",
    "        for i in range(n):\n",
    "            if i > 1:\n",
    "                list.append(list[i-2]+list[i-1])\n",
    "        return list[n-1]\n",
    "    else:\n",
    "        return \"input error\"\n",
    "print(get_Fibonacci_number(3))"
   ]
  },
  {
   "cell_type": "markdown",
   "metadata": {},
   "source": [
    "Write a function to get the largest Fibonacci number that is equal or smaller than a given number.  \n",
    "For example:\n",
    "- Given 2, the functions should return 2\n",
    "- Given 10, the functions should return 8"
   ]
  },
  {
   "cell_type": "code",
   "execution_count": 97,
   "metadata": {},
   "outputs": [],
   "source": [
    "# YOUR CODE HERE\n",
    "def get_largest_Fibonacci_number(n):\n",
    "    list = []\n",
    "    list.append(0)\n",
    "    list.append(1)\n",
    "    for i in range(n):\n",
    "        while list[len(list)-1]<n:\n",
    "            list.append(list[i-1]+list[i-2])\n",
    "    return list[len(list)-2]\n"
   ]
  },
  {
   "cell_type": "markdown",
   "metadata": {},
   "source": [
    "# Dictionary"
   ]
  },
  {
   "cell_type": "markdown",
   "metadata": {},
   "source": [
    "A Python ditionary comprises of student numbers as keys and student names as values. Write a function to capitalize all the student names in the dictionary."
   ]
  },
  {
   "cell_type": "code",
   "execution_count": 120,
   "metadata": {},
   "outputs": [
    {
     "name": "stdout",
     "output_type": "stream",
     "text": [
      "{'123': 'WILLIAMS', '124': 'GEORGE', '125': 'STEVEN'}\n"
     ]
    }
   ],
   "source": [
    "# YOUR CODE HERE\n",
    "student_info = {\n",
    "    '123':'Williams',\n",
    "    '124':'George',\n",
    "    '125':'Steven'\n",
    "}\n",
    "def Capitalize_student_name(dict):\n",
    "    for key in dict:\n",
    "        dict[key] = dict.get(key).upper()\n",
    "    return dict\n",
    "print(Capitalize_student_name(student_info))"
   ]
  },
  {
   "cell_type": "markdown",
   "metadata": {},
   "source": [
    "# Character counts\n",
    "\n",
    "Write a function that count the frequencies of each alphabet character in a given string. The function should return a dictionary, in which each key is a character and each value is the corresponding frequency. All characters are treated as their lowercases, meaning 'E' is the same as 'e'.   \n",
    "For example: Calling the function for 'Hello' will return {'h': 1, 'e': 1, 'l': 2, 'o': 1}."
   ]
  },
  {
   "cell_type": "code",
   "execution_count": 100,
   "metadata": {},
   "outputs": [
    {
     "data": {
      "text/plain": [
       "defaultdict(int,\n",
       "            {'h': 1, 'e': 1, 'l': 3, 'o': 2, ' ': 1, 'w': 1, 'r': 1, 'd': 1})"
      ]
     },
     "execution_count": 100,
     "metadata": {},
     "output_type": "execute_result"
    }
   ],
   "source": [
    "# YOUR CODE HERE\n",
    "def count_characters(str):\n",
    "    import collections\n",
    "    dict = collections.defaultdict(int)\n",
    "    str = str.lower()\n",
    "    for c in str:\n",
    "        dict[c] += 1\n",
    "    return dict\n",
    "text = 'hello world'\n",
    "count_characters(text)"
   ]
  },
  {
   "cell_type": "markdown",
   "metadata": {},
   "source": [
    "# Extrema (Optional)\n",
    "\n",
    "Given a list of numbers representing a series, count how many time the values change their trends, i.e. from increasing to descreasing and vi versa.  \n",
    "Examples of these changes are:\n",
    "- [0, 2, 1]\n",
    "- [0, -2, -2, 3]"
   ]
  },
  {
   "cell_type": "code",
   "execution_count": 249,
   "metadata": {},
   "outputs": [
    {
     "name": "stdout",
     "output_type": "stream",
     "text": [
      "4\n"
     ]
    }
   ],
   "source": [
    "def count_trend_changes(list):\n",
    "    count = int()\n",
    "    for i in range(2,len(list)):\n",
    "        a = list[i-1] - list [i-2]\n",
    "        b = list[i] - list[i-1]\n",
    "        if a*b < 0:\n",
    "            count += 1\n",
    "        elif a*b == 0:\n",
    "            if a+b !=0:\n",
    "                count += 1\n",
    "    return count\n",
    "list = [0,-2,6,6,6,-3,2]\n",
    "print(count_trend_changes(list))\n",
    "\n"
   ]
  },
  {
   "cell_type": "markdown",
   "metadata": {},
   "source": [
    "# Approximate $\\pi$ (Optional)"
   ]
  },
  {
   "cell_type": "code",
   "execution_count": 241,
   "metadata": {},
   "outputs": [
    {
     "name": "stdout",
     "output_type": "stream",
     "text": [
      "3.1415768\n"
     ]
    }
   ],
   "source": [
    "from random import random\n",
    "count = 0\n",
    "i = 0\n",
    "while i < 10000000:\n",
    "    x = random()\n",
    "    y = random()\n",
    "    if pow(x-0.5,2)+pow(y-0.5,2)<0.25:\n",
    "        count += 1\n",
    "    i += 1\n",
    "print(count*4/10000000)\n"
   ]
  },
  {
   "cell_type": "markdown",
   "metadata": {},
   "source": [
    "One method to approximate the value of $\\pi$ is through simulation. Given the function `random` generates a number in the range $[0,1]$ randomly, write a function to approxmiate $\\pi$.  \n",
    "\n",
    "*Hints:*\n",
    "- $\\pi$ is the area of a cirle with radius of 1.\n",
    "- For any random point in the unit square (positions top-right of the origin), the change of this point belonging to the quarter unit circle is $\\pi/4$"
   ]
  }
 ],
 "metadata": {
  "kernelspec": {
   "display_name": "Python 3.10.6 ('TIL6022')",
   "language": "python",
   "name": "python3"
  },
  "language_info": {
   "codemirror_mode": {
    "name": "ipython",
    "version": 3
   },
   "file_extension": ".py",
   "mimetype": "text/x-python",
   "name": "python",
   "nbconvert_exporter": "python",
   "pygments_lexer": "ipython3",
   "version": "3.10.6"
  },
  "orig_nbformat": 4,
  "vscode": {
   "interpreter": {
    "hash": "7453b9adc806a79827ffa7da765463f332b3ff7726a2c4c8784bb8dd55c99a3e"
   }
  }
 },
 "nbformat": 4,
 "nbformat_minor": 2
}
